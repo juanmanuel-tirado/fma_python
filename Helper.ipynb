{
 "cells": [
  {
   "cell_type": "markdown",
   "metadata": {},
   "source": [
    "## Helper\n",
    "The code below is a starting point to run sklearn based solutions using the fma dataset.\n",
    "\n",
    "First load the dataset."
   ]
  },
  {
   "cell_type": "code",
   "execution_count": null,
   "metadata": {},
   "outputs": [],
   "source": [
    "import numpy\n",
    "import pandas\n",
    "\n",
    "train = pandas.read_csv('/tmp/train_pandas.csv',index_col=0,header=[0,1],low_memory=False)\n",
    "train"
   ]
  },
  {
   "cell_type": "markdown",
   "metadata": {},
   "source": [
    "Now we are going to determine what columns are we going to use"
   ]
  },
  {
   "cell_type": "code",
   "execution_count": null,
   "metadata": {},
   "outputs": [],
   "source": [
    "moments = ('mean', 'std', 'skew', 'kurtosis', 'median', 'min', 'max')\n",
    "selected_columns = [('track','duration'),('track','genre_top')]\n",
    "for c in train.columns:\n",
    "    for m in moments:\n",
    "        if m in c:\n",
    "            selected_columns.append(c)\n",
    "\n",
    "print('We have %d selected columns'% len(selected_columns))"
   ]
  },
  {
   "cell_type": "markdown",
   "metadata": {},
   "source": [
    "Let's take a look at the distribution of the training dataset"
   ]
  },
  {
   "cell_type": "code",
   "execution_count": null,
   "metadata": {},
   "outputs": [],
   "source": [
    "from matplotlib import pyplot\n",
    "\n",
    "pyplot.hist(train[('album','date_released')])\n",
    "pyplot.xlabel(\"Year\")\n",
    "pyplot.ylabel(\"Occurrences\")\n",
    "pyplot.show()"
   ]
  },
  {
   "cell_type": "markdown",
   "metadata": {},
   "source": [
    "Now we can train our model"
   ]
  },
  {
   "cell_type": "code",
   "execution_count": null,
   "metadata": {
    "collapsed": true
   },
   "outputs": [],
   "source": [
    "# Here some code to train our model...\n",
    "\n",
    "# Determine features and labels\n",
    "train_X = train[selected_columns]\n",
    "train_y = train[('album','date_released')\n",
    "\n",
    "# declare pipelines\n",
    "# fit models...\n",
    "\n",
    "\n"
   ]
  },
  {
   "cell_type": "markdown",
   "metadata": {},
   "source": [
    "Now load our evaluation dataset."
   ]
  },
  {
   "cell_type": "code",
   "execution_count": null,
   "metadata": {
    "collapsed": true
   },
   "outputs": [],
   "source": [
    "evaluation = train = pandas.read_csv('/tmp/evaluation_pandas.csv',index_col=0,header=[0,1],low_memory=False)\n",
    "\n",
    "# Get predictions\n",
    "# ...\n",
    "# Evaluate resulting output\n",
    "# ..."
   ]
  }
 ],
 "metadata": {
  "kernelspec": {
   "display_name": "Python 3",
   "language": "python",
   "name": "python3"
  },
  "language_info": {
   "codemirror_mode": {
    "name": "ipython",
    "version": 3
   },
   "file_extension": ".py",
   "mimetype": "text/x-python",
   "name": "python",
   "nbconvert_exporter": "python",
   "pygments_lexer": "ipython3",
   "version": "3.4.2"
  }
 },
 "nbformat": 4,
 "nbformat_minor": 2
}
